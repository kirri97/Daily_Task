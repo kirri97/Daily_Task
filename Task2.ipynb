{
 "cells": [
  {
   "cell_type": "markdown",
   "metadata": {},
   "source": [
    "1) What is type casting in python?"
   ]
  },
  {
   "cell_type": "markdown",
   "metadata": {},
   "source": [
    "--> convert one datatype to another datatype is called type casting"
   ]
  },
  {
   "cell_type": "markdown",
   "metadata": {},
   "source": [
    "2) How do you perform typecasting in python and what is the purpose of type casting? Give Some examples"
   ]
  },
  {
   "cell_type": "markdown",
   "metadata": {},
   "source": [
    "--> To meet the requirements of function arguments, or to convert user inputs to a suitable format"
   ]
  },
  {
   "cell_type": "code",
   "execution_count": 4,
   "metadata": {},
   "outputs": [
    {
     "name": "stdout",
     "output_type": "stream",
     "text": [
      "10.0,\n"
     ]
    }
   ],
   "source": [
    "a = int(10)\n",
    "b = float(a)\n",
    "\n",
    "\n",
    "print(f\"{b}\")"
   ]
  },
  {
   "cell_type": "markdown",
   "metadata": {},
   "source": [
    "3) Write a program to convert celsius temperature to fahrenheit. F = (C * 9/5) + 32"
   ]
  },
  {
   "cell_type": "code",
   "execution_count": 3,
   "metadata": {},
   "outputs": [
    {
     "name": "stdout",
     "output_type": "stream",
     "text": [
      "73.4\n"
     ]
    }
   ],
   "source": [
    "def fahrenhit():\n",
    "   celcius = int(input(\"enter celcius temperature\"))\n",
    "\n",
    "   f = (celcius * 9/5) + 32\n",
    "\n",
    "   print(f\"{f}\")\n",
    "fahrenhit()\n",
    "\n"
   ]
  },
  {
   "cell_type": "markdown",
   "metadata": {},
   "source": [
    "4) Declare 2 variables and assign them integers values and perform the following\n",
    "operations.\n",
    "- Addition\n",
    "- Subtraction\n",
    "- Multiplication\n",
    "- Division\n"
   ]
  },
  {
   "cell_type": "code",
   "execution_count": 7,
   "metadata": {},
   "outputs": [
    {
     "name": "stdout",
     "output_type": "stream",
     "text": [
      "Addition: 30 ; Subtraction: -10 ; Multiplication: 200 ; Division: 0.5\n"
     ]
    }
   ],
   "source": [
    "def all_variables(a,b):\n",
    "        addition = a+b\n",
    "        subtraction = a-b\n",
    "        multiplication = a*b\n",
    "        division = a/b\n",
    "        print(f\"Addition: {addition} ; Subtraction: {subtraction} ; Multiplication: {multiplication} ; Division: {division}\")\n",
    "all_variables(10,20)\n"
   ]
  },
  {
   "cell_type": "markdown",
   "metadata": {},
   "source": [
    "5) Take length and breadth as input and write a program to find the area of the rectangle"
   ]
  },
  {
   "cell_type": "code",
   "execution_count": 8,
   "metadata": {},
   "outputs": [
    {
     "name": "stdout",
     "output_type": "stream",
     "text": [
      "Area: 200\n"
     ]
    }
   ],
   "source": [
    "def  rectangle(x,y):\n",
    "        length = x\n",
    "        breadth = y\n",
    "        area = length * breadth\n",
    "        print(f\"Area: {area}\")\n",
    "\n",
    "rectangle(10,20)"
   ]
  },
  {
   "cell_type": "markdown",
   "metadata": {},
   "source": [
    "6) List out the inbuilt keywords you know and explain about their functionality and use with examples"
   ]
  },
  {
   "cell_type": "markdown",
   "metadata": {},
   "source": [
    "--> Python has several built-in keywords that are reserved names and cannot be used as identifiers (variable names, function names, etc.). \n"
   ]
  },
  {
   "cell_type": "code",
   "execution_count": 10,
   "metadata": {},
   "outputs": [],
   "source": [
    "condition = 0\n",
    "if condition :\n",
    "    pass\n",
    "elif  condition :\n",
    "    pass\n",
    "def name(_):\n",
    "    pass\n",
    "\n"
   ]
  },
  {
   "cell_type": "markdown",
   "metadata": {},
   "source": [
    "7) Explain about data types with examples."
   ]
  },
  {
   "cell_type": "markdown",
   "metadata": {},
   "source": [
    "--> types in Python specify the kind of value that tells Python what operations can be performed on a particular value. \n",
    "--> Python has various data types, including but not limited to:\n",
    "--> 8 Data types : integer, float,String,boolean,list,Tuple,Dictionary,Set\n",
    "\n",
    "\n",
    "--> integer type : it will store intiger vales only Ex: 8 ,22,3,45,5,etc...\n",
    "\n",
    "--> float type : it will store float vales only Ex: 8.22,3.45,etc...\n",
    "\n",
    "--> string type : it will store string vales only Ex: \"Hello\", \"World\", etc...\n",
    "\n",
    "--> boolean type : it will store boolean vales only Ex: True, False, etc...\n",
    "\n",
    "--> list type : it will store list vales only Ex: [1,2,3,4,5,6,7,8,9,10]\n",
    "\n",
    "--> tuple type : it will store tuple vales only Ex: (1,2,3,4,5,6,7,8,9,10)\n",
    "\n",
    "--> dictionary type : it will store dictionary vales only Ex: {1:1,2:2,3:3,4:4,5:5,6:6,7:7,8:8,9:9,10:10}\n"
   ]
  },
  {
   "cell_type": "code",
   "execution_count": 5,
   "metadata": {},
   "outputs": [
    {
     "name": "stdout",
     "output_type": "stream",
     "text": [
      "12 12.0 123 True list[12, 3, 4, 4] (1, 43, 5, 6, 7) {1: 1, 2: 2, 3: 3, 4: 4} {1, 567, 677, 7}\n"
     ]
    }
   ],
   "source": [
    "i = int(12.3)\n",
    "f = float(12)\n",
    "s = str(123)\n",
    "b = True\n",
    "l = list[12,3,4,4,]\n",
    "t = (1,43,5,6,7)\n",
    "d = dict({1:1,2:2,3:3,4:4})\n",
    "se = set({1,567,677,7})\n",
    "print(i,f,s,b,l,t,d,se)"
   ]
  }
 ],
 "metadata": {
  "kernelspec": {
   "display_name": "Python 3",
   "language": "python",
   "name": "python3"
  },
  "language_info": {
   "codemirror_mode": {
    "name": "ipython",
    "version": 3
   },
   "file_extension": ".py",
   "mimetype": "text/x-python",
   "name": "python",
   "nbconvert_exporter": "python",
   "pygments_lexer": "ipython3",
   "version": "3.12.3"
  }
 },
 "nbformat": 4,
 "nbformat_minor": 2
}
