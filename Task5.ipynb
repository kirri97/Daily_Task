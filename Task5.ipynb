{
 "cells": [
  {
   "cell_type": "markdown",
   "metadata": {},
   "source": [
    "Q1.\n",
    "a. Create a variable to store the string \"Earth revolves around the sun\"\n",
    "- Print \"revolves\" using slice operator\n",
    "- Print \"sun\" using negative index"
   ]
  },
  {
   "cell_type": "code",
   "execution_count": 35,
   "metadata": {},
   "outputs": [
    {
     "name": "stdout",
     "output_type": "stream",
     "text": [
      "revolves    sun\n"
     ]
    }
   ],
   "source": [
    "name = \"Earth revolves around the sun\"\n",
    "slice = name[6:14]\n",
    "negative_index = name[-3:]\n",
    "\n",
    "print(slice,\"  \",negative_index)"
   ]
  },
  {
   "cell_type": "markdown",
   "metadata": {},
   "source": [
    "b. Create two variables to store how many fruits and vegetables you eat in a day.\n",
    "Now, Print \"I eat x veggies and y fruits daily\" where x and y presents vegetables\n",
    "and fruits that you eat everyday.\n"
   ]
  },
  {
   "cell_type": "code",
   "execution_count": 38,
   "metadata": {},
   "outputs": [
    {
     "name": "stdout",
     "output_type": "stream",
     "text": [
      "I eat 5 veggies and 3 fruits daily\n"
     ]
    }
   ],
   "source": [
    "fruits =  3\n",
    "vegetables = 5\n",
    "\n",
    "\n",
    "print(\"I eat\",vegetables,\"veggies and\",fruits,\"fruits daily\")"
   ]
  },
  {
   "cell_type": "markdown",
   "metadata": {},
   "source": [
    "Q2.\n",
    "a. Convert the above sentence into uppercase and count how many times the letter\n",
    "‘E’ is repeated.\n"
   ]
  },
  {
   "cell_type": "code",
   "execution_count": 34,
   "metadata": {},
   "outputs": [
    {
     "name": "stdout",
     "output_type": "stream",
     "text": [
      "EARTH REVOLVES AROUND THE SUN, count = 4\n"
     ]
    }
   ],
   "source": [
    "sentence = \"Earth revolves around the sun\"\n",
    "upperr = sentence.upper()\n",
    "print(f\"{upperr}, count = {upperr.count(\"E\")}\")"
   ]
  },
  {
   "cell_type": "markdown",
   "metadata": {},
   "source": [
    "\n",
    "b. Now, convert the whole string into lowercase and find the index of letter ‘o’."
   ]
  },
  {
   "cell_type": "code",
   "execution_count": 62,
   "metadata": {},
   "outputs": [
    {
     "name": "stdout",
     "output_type": "stream",
     "text": [
      " earth revolves around the sun , index of letter 'o'  is  = 9\n"
     ]
    }
   ],
   "source": [
    "sentence = \"Earth revolves around the sun\"\n",
    "\n",
    "lowerr = sentence.lower()\n",
    "print(f\" {lowerr} , index of letter 'o'  is  = {lowerr.index(\"o\")}\")\n"
   ]
  },
  {
   "cell_type": "markdown",
   "metadata": {},
   "source": [
    "Q3. Given a string original_string = \"Hello World, Hello Universe\", replace the 2nd\n",
    "instance of “Hello” with “Hi” and print the output. output-”Hello World, Hi Universe\""
   ]
  },
  {
   "cell_type": "code",
   "execution_count": 64,
   "metadata": {},
   "outputs": [
    {
     "name": "stdout",
     "output_type": "stream",
     "text": [
      "Hi World, Hi Universe\n"
     ]
    }
   ],
   "source": [
    "original_string = \"Hello World, Hello Universe\"\n",
    "\n",
    "print(original_string.replace(\"Hello\",\"Hi\"))"
   ]
  },
  {
   "cell_type": "markdown",
   "metadata": {},
   "source": [
    "Q4. Explore different string methods and form documentation for each method with examples\n"
   ]
  },
  {
   "cell_type": "markdown",
   "metadata": {},
   "source": [
    "1. capitalize()\n",
    "Returns a copy of the string with its first character capitalized and the rest lowercased."
   ]
  },
  {
   "cell_type": "code",
   "execution_count": 2,
   "metadata": {},
   "outputs": [
    {
     "name": "stdout",
     "output_type": "stream",
     "text": [
      "Python language\n"
     ]
    }
   ],
   "source": [
    "text = \"python language\"\n",
    "print(text.capitalize()) "
   ]
  },
  {
   "cell_type": "markdown",
   "metadata": {},
   "source": [
    "2. upper()\n",
    "Converts all characters in the string to uppercase."
   ]
  },
  {
   "cell_type": "code",
   "execution_count": 5,
   "metadata": {},
   "outputs": [
    {
     "name": "stdout",
     "output_type": "stream",
     "text": [
      "KIRAN KIRRI\n"
     ]
    }
   ],
   "source": [
    "name = \"Kiran kirri\"\n",
    "print(name.upper())  "
   ]
  },
  {
   "cell_type": "markdown",
   "metadata": {},
   "source": [
    "3. lower()\n",
    "Converts all characters in the string to lowercase."
   ]
  },
  {
   "cell_type": "code",
   "execution_count": 6,
   "metadata": {},
   "outputs": [
    {
     "name": "stdout",
     "output_type": "stream",
     "text": [
      "adilabad\n"
     ]
    }
   ],
   "source": [
    "place = \"ADILABAD\"\n",
    "print(place.lower()) "
   ]
  },
  {
   "cell_type": "markdown",
   "metadata": {},
   "source": [
    "4. strip()\n",
    "Removes leading and trailing whitespaces from the string."
   ]
  },
  {
   "cell_type": "code",
   "execution_count": 7,
   "metadata": {},
   "outputs": [
    {
     "name": "stdout",
     "output_type": "stream",
     "text": [
      "Kiran\n"
     ]
    }
   ],
   "source": [
    "remove_space = \"   Kiran   \"\n",
    "print(remove_space.strip())  "
   ]
  },
  {
   "cell_type": "markdown",
   "metadata": {},
   "source": [
    "5. replace(old, new[, count])\n",
    "Replaces occurrences of a substring within the string."
   ]
  },
  {
   "cell_type": "code",
   "execution_count": 9,
   "metadata": {},
   "outputs": [
    {
     "name": "stdout",
     "output_type": "stream",
     "text": [
      "Hyderabad is best city\n"
     ]
    }
   ],
   "source": [
    "place = \"Adilabad is best city\" \n",
    "print(place.replace(\"Adilabad\", \"Hyderabad\"))  "
   ]
  },
  {
   "cell_type": "markdown",
   "metadata": {},
   "source": [
    "6. find(sub[, start[, end]])\n",
    "Returns the lowest index in the string where substring sub is found."
   ]
  },
  {
   "cell_type": "code",
   "execution_count": 32,
   "metadata": {},
   "outputs": [
    {
     "name": "stdout",
     "output_type": "stream",
     "text": [
      "2\n"
     ]
    }
   ],
   "source": [
    "name = \"Kiran kirri \"\n",
    "print(name.find(\"r\")) "
   ]
  },
  {
   "cell_type": "markdown",
   "metadata": {},
   "source": [
    "7. split(sep=None, maxsplit=-1)\n",
    "Returns a list of the words in the string, using sep as the delimiter string."
   ]
  },
  {
   "cell_type": "code",
   "execution_count": 15,
   "metadata": {},
   "outputs": [
    {
     "name": "stdout",
     "output_type": "stream",
     "text": [
      "['Kiran', 'kirri']\n"
     ]
    }
   ],
   "source": [
    "name = \"Kiran kirri \"\n",
    "print(name.split())  "
   ]
  },
  {
   "cell_type": "markdown",
   "metadata": {},
   "source": [
    "8. join(iterable)\n",
    "Concatenates any number of strings from an iterable (like list or tuple)."
   ]
  },
  {
   "cell_type": "code",
   "execution_count": 19,
   "metadata": {},
   "outputs": [
    {
     "name": "stdout",
     "output_type": "stream",
     "text": [
      "Kiran kirri\n"
     ]
    }
   ],
   "source": [
    "name = [\"Kiran\",\"kirri\"]\n",
    "print(\" \".join(name)) "
   ]
  },
  {
   "cell_type": "markdown",
   "metadata": {},
   "source": [
    "9. startswith(prefix[, start[, end]])\n",
    "Returns True if the string starts with the specified prefix.\n",
    "\n"
   ]
  },
  {
   "cell_type": "code",
   "execution_count": 33,
   "metadata": {},
   "outputs": [
    {
     "name": "stdout",
     "output_type": "stream",
     "text": [
      "True\n"
     ]
    }
   ],
   "source": [
    "text = \"my name is kirri\"\n",
    "print(text.startswith(\"my\")) "
   ]
  },
  {
   "cell_type": "markdown",
   "metadata": {},
   "source": [
    "10. endswith(suffix[, start[, end]])\n",
    "Returns True if the string ends with the specified suffix."
   ]
  },
  {
   "cell_type": "code",
   "execution_count": 21,
   "metadata": {},
   "outputs": [
    {
     "name": "stdout",
     "output_type": "stream",
     "text": [
      "True\n"
     ]
    }
   ],
   "source": [
    "text = \"my name is kirri\"\n",
    "print(text.endswith(\"kirri\"))  # Output: True"
   ]
  },
  {
   "cell_type": "markdown",
   "metadata": {},
   "source": [
    "11. isalpha()\n",
    "Returns True if all characters in the string are alphabetic."
   ]
  },
  {
   "cell_type": "code",
   "execution_count": 23,
   "metadata": {},
   "outputs": [
    {
     "name": "stdout",
     "output_type": "stream",
     "text": [
      "False\n"
     ]
    }
   ],
   "source": [
    "text = \"kiran\"\n",
    "print(text.isalpha()) "
   ]
  },
  {
   "cell_type": "markdown",
   "metadata": {},
   "source": [
    "12. isdigit()\n",
    "Returns True if all characters in the string are digits."
   ]
  },
  {
   "cell_type": "code",
   "execution_count": 24,
   "metadata": {},
   "outputs": [
    {
     "name": "stdout",
     "output_type": "stream",
     "text": [
      "True\n"
     ]
    }
   ],
   "source": [
    "text = \"12345\"\n",
    "print(text.isdigit()) "
   ]
  },
  {
   "cell_type": "markdown",
   "metadata": {},
   "source": [
    "13. isspace()\n",
    "Returns True if all characters in the string are whitespace characters."
   ]
  },
  {
   "cell_type": "code",
   "execution_count": 27,
   "metadata": {},
   "outputs": [
    {
     "name": "stdout",
     "output_type": "stream",
     "text": [
      "True\n"
     ]
    }
   ],
   "source": [
    "text = \"   \"\n",
    "print(text.isspace()) "
   ]
  },
  {
   "cell_type": "markdown",
   "metadata": {},
   "source": [
    "14. format(*args, **kwargs)\n",
    "Performs string formatting operations."
   ]
  },
  {
   "cell_type": "code",
   "execution_count": 29,
   "metadata": {},
   "outputs": [
    {
     "name": "stdout",
     "output_type": "stream",
     "text": [
      "Hello, Kirri!\n"
     ]
    }
   ],
   "source": [
    "text = \"Hello, {name}!\"\n",
    "print(text.format(name=\"Kirri\"))  "
   ]
  },
  {
   "cell_type": "markdown",
   "metadata": {},
   "source": [
    "15. count(sub[, start[, end]])\n",
    "Returns the number of non-overlapping occurrences of substring sub in the string."
   ]
  },
  {
   "cell_type": "code",
   "execution_count": 31,
   "metadata": {},
   "outputs": [
    {
     "name": "stdout",
     "output_type": "stream",
     "text": [
      "6\n"
     ]
    }
   ],
   "source": [
    "text = \"hyderabad is better than kakinada\"\n",
    "print(text.count(\"a\"))"
   ]
  }
 ],
 "metadata": {
  "kernelspec": {
   "display_name": "Python 3",
   "language": "python",
   "name": "python3"
  },
  "language_info": {
   "codemirror_mode": {
    "name": "ipython",
    "version": 3
   },
   "file_extension": ".py",
   "mimetype": "text/x-python",
   "name": "python",
   "nbconvert_exporter": "python",
   "pygments_lexer": "ipython3",
   "version": "3.12.3"
  }
 },
 "nbformat": 4,
 "nbformat_minor": 2
}
