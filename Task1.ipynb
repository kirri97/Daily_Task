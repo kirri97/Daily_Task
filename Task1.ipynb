{
 "cells": [
  {
   "cell_type": "markdown",
   "metadata": {},
   "source": [
    "Q1. Create different variables to store your name, your age, your parents name."
   ]
  },
  {
   "cell_type": "code",
   "execution_count": 1,
   "metadata": {},
   "outputs": [
    {
     "name": "stdout",
     "output_type": "stream",
     "text": [
      "my biodata = my name is : kiran ; and my age  is : 26 years old ; and my parents names are : rajeshwar,shoba\n"
     ]
    }
   ],
   "source": [
    "def biodata():\n",
    "      name = input(\"enter your name : \")\n",
    "      age = int(input(\"enter your age : \"))\n",
    "      parents = input(\"enter your parents name : \")\n",
    "      print(f\"my biodata = my name is : {name} ; and my age  is : {age} years old ; and my parents names are : {parents}\")\n",
    "biodata()"
   ]
  },
  {
   "cell_type": "markdown",
   "metadata": {},
   "source": [
    "Q2. Create two variables. One to store your First name and another one to store your surname. Now, Print your name so that the surname prints first.\n",
    "\n"
   ]
  },
  {
   "cell_type": "code",
   "execution_count": 2,
   "metadata": {},
   "outputs": [
    {
     "name": "stdout",
     "output_type": "stream",
     "text": [
      " my surname is : Rasam ; and my name is : Kiran  \n"
     ]
    }
   ],
   "source": [
    "\n",
    "def fullname():\n",
    "      name = input(\"enter your name : \")\n",
    "      surname = input(\"enter your surname : \")\n",
    "      print(f\" my surname is : {surname} ; and my name is : {name}  \")\n",
    "fullname()\n",
    "\n",
    "\n"
   ]
  },
  {
   "cell_type": "markdown",
   "metadata": {},
   "source": [
    "Q3.\n",
    "\n",
    "a. Write rules on how to create a Variable in markdown cell using text formatting.\n"
   ]
  },
  {
   "cell_type": "markdown",
   "metadata": {},
   "source": [
    "1.variable rules\n",
    "   * variable should be start with a letter or  _ underscore\n",
    "   * variable name should not contain any special character like $ or % likes...\n",
    "   * variable name should not start with a number\n",
    "   * variable name first word small letter next word first letter should be capitalized and separeted with underscore\n",
    "   * variable names are don't use reserved keyword names like  : class , if, else,def,int,float.etc\n",
    "   \n",
    "\n",
    "\n"
   ]
  },
  {
   "cell_type": "markdown",
   "metadata": {},
   "source": [
    "b. Print type of the below variables:\n",
    "\n",
    "a = 4.5\n",
    "\n",
    "b = “Techagust”\n",
    "\n",
    "c = 100"
   ]
  },
  {
   "cell_type": "code",
   "execution_count": 1,
   "metadata": {},
   "outputs": [
    {
     "name": "stdout",
     "output_type": "stream",
     "text": [
      "'a'  is : <class 'float'>;  'b' is : <class 'str'>;   'c'  is : <class 'int'>\n"
     ]
    }
   ],
   "source": [
    "a = 4.5\n",
    "\n",
    "b = \"Techagust\"\n",
    "c = 100\n",
    "\n",
    "print(f\"'a'  is : {type(a)};  'b' is : {type(b)};   'c'  is : {type(c) }\")"
   ]
  },
  {
   "cell_type": "markdown",
   "metadata": {},
   "source": [
    " Q4  Python Program to Check Armstrong Number"
   ]
  },
  {
   "cell_type": "code",
   "execution_count": 7,
   "metadata": {},
   "outputs": [
    {
     "name": "stdout",
     "output_type": "stream",
     "text": [
      "123 is not an Armstrong number.\n",
      "2343 is not an Armstrong number.\n",
      "445 is not an Armstrong number.\n",
      "153 is an Armstrong number.\n"
     ]
    }
   ],
   "source": [
    "def amstrong_Number():\n",
    "     number = int(input(\"Enter a number: \"))\n",
    "     sum_of_cubes = sum(int(digit) ** 3 for digit in str(number))\n",
    "     if sum_of_cubes == number:\n",
    "        print(f\"{number} is an Armstrong number.\")\n",
    "     else:\n",
    "       print(f\"{number} is not an Armstrong number.\")\n",
    "amstrong_Number()\n",
    "amstrong_Number()\n",
    "amstrong_Number()\n",
    "amstrong_Number()\n",
    "\n",
    "    \n",
    "    \n",
    "    "
   ]
  },
  {
   "cell_type": "code",
   "execution_count": 18,
   "metadata": {},
   "outputs": [
    {
     "name": "stdout",
     "output_type": "stream",
     "text": [
      "153 is an Armstrong number.\n"
     ]
    }
   ],
   "source": [
    "def amstrong_Number1():\n",
    "    number = int(input(\"enter the number :\"))\n",
    "    str_num = str(number)\n",
    "    sum_cubes = 0\n",
    "    for i in str_num :\n",
    "        sum_cubes = sum_cubes + int(i) **3\n",
    "    if sum_cubes == number :\n",
    "        print(f\"{number} is an Armstrong number.\")\n",
    "    else :\n",
    "        print(f\"{number} is not an Armstrong number.\")\n",
    "amstrong_Number1()"
   ]
  },
  {
   "cell_type": "code",
   "execution_count": 8,
   "metadata": {},
   "outputs": [
    {
     "name": "stdout",
     "output_type": "stream",
     "text": [
      "153 is an amstrong number\n"
     ]
    }
   ],
   "source": [
    "def amstrong_Number2():\n",
    "    n = int (input(\"enter a number\"))\n",
    "    r = n\n",
    "    sum = 0\n",
    "    while n>0 :\n",
    "        k = n%10\n",
    "        sum = sum+k**3\n",
    "        n = n//10\n",
    "    if sum == r :\n",
    "        print(f\"{r} is an amstrong number\")\n",
    "    else :\n",
    "        print(f\"{r} is not an amstrong number\")\n",
    "amstrong_Number2()"
   ]
  },
  {
   "cell_type": "code",
   "execution_count": 18,
   "metadata": {},
   "outputs": [
    {
     "name": "stdout",
     "output_type": "stream",
     "text": [
      "153 is an amstrong number\n"
     ]
    }
   ],
   "source": [
    "def amstrong_Number3(str,end):\n",
    "  for i in range(str,end):\n",
    "    r = i\n",
    "    sum = 0\n",
    "    while i>0 :\n",
    "        k = i%10\n",
    "        sum = sum+k**3\n",
    "        i = i//10\n",
    "    if sum == r :\n",
    "       print(f\"{r} is an amstrong number\")\n",
    "    else :\n",
    "       print(f\"{r} is not an amstrong number\")\n",
    "amstrong_Number3(153,154)\n",
    "\n",
    "   "
   ]
  },
  {
   "cell_type": "code",
   "execution_count": 16,
   "metadata": {},
   "outputs": [
    {
     "name": "stdout",
     "output_type": "stream",
     "text": [
      "153 is an Armstrong number.\n",
      "154 is not an Armstrong number\n",
      "155 is not an Armstrong number\n",
      "156 is not an Armstrong number\n",
      "157 is not an Armstrong number\n",
      "158 is not an Armstrong number\n",
      "159 is not an Armstrong number\n"
     ]
    }
   ],
   "source": [
    "def amstrong_Number_range(start, end):\n",
    "    for number in range(start, end ):\n",
    "        sum_of_cubes = sum(int(digit) ** 3 for digit in str(number))\n",
    "        if sum_of_cubes == number:\n",
    "            print(f\"{number} is an Armstrong number.\")\n",
    "        else:\n",
    "            print(f\"{number} is not an Armstrong number\")\n",
    "\n",
    "amstrong_Number_range(153,160 )"
   ]
  }
 ],
 "metadata": {
  "kernelspec": {
   "display_name": "Python 3",
   "language": "python",
   "name": "python3"
  },
  "language_info": {
   "codemirror_mode": {
    "name": "ipython",
    "version": 3
   },
   "file_extension": ".py",
   "mimetype": "text/x-python",
   "name": "python",
   "nbconvert_exporter": "python",
   "pygments_lexer": "ipython3",
   "version": "3.12.3"
  }
 },
 "nbformat": 4,
 "nbformat_minor": 2
}
