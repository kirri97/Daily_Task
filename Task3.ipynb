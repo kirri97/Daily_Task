{
 "cells": [
  {
   "cell_type": "markdown",
   "metadata": {},
   "source": [
    "1. How many types of operations are supported by the Python language and\n",
    "explain in detail about them.\n"
   ]
  },
  {
   "cell_type": "markdown",
   "metadata": {},
   "source": [
    "--> The value that the operator operates on operand is called operator.\n",
    "1.Arithmetic Operators: Used for performing mathematical operations like addition, subtraction, multiplication, etc.\n",
    "    + (Addition)\n",
    "\n",
    "    - (Subtraction)\n",
    "\n",
    "    * (Multiplication)\n",
    "\n",
    "    / (Division)\n",
    "\n",
    "    % (Modulus)\n",
    "\n",
    "    ** (Exponentiation)\n",
    "\n",
    "    // (Floor Division)\n",
    "\n",
    "2.Comparison (Relational) Operators: Used for comparing the values. It either returns True or False according to the condition.\n",
    "    == (Equal)\n",
    "\n",
    "    != (Not equal)\n",
    "\n",
    "    > (Greater than)\n",
    "\n",
    "    < (Less than)\n",
    "\n",
    "    >= (Greater than or equal to)\n",
    "\n",
    "    <= (Less than or equal to)\n",
    "\n",
    "    3.Logical Operators: Used to combine conditional statements.\n",
    "\n",
    "    and (Returns True if both statements are true)\n",
    "\n",
    "    or (Returns True if one of the statements is true)\n",
    "\n",
    "    not (Reverse the result, returns False if the result is true)\n",
    "\n",
    "4.Assignment Operators: Used to assign values to variables.\n",
    "    = (Simple assignment)\n",
    "\n",
    "    += (Add and assign)\n",
    "\n",
    "    -= (Subtract and assign)\n",
    "\n",
    "    *= (Multiply and assign)\n",
    "\n",
    "    /= (Divide and assign)\n",
    "\n",
    "    %= (Modulus and assign)\n",
    "\n",
    "    **= (Exponent and assign)\n",
    "    \n",
    "    //= (Floor divide and assign)\n",
    "    \n",
    "5.Bitwise Operators: Used to perform bitwise calculations on integers.\n",
    "\n",
    "    & (AND)\n",
    "\n",
    "    | (OR)\n",
    "\n",
    "    ^ (XOR)\n",
    "\n",
    "    ~ (NOT)\n",
    "\n",
    "    << (Left shift)\n",
    "\n",
    "    >> (Right shift)\n",
    "\n",
    "6.Membership Operators: Used to test whether a value or variable is found in a sequence (string, list, tuple, set, and dictionary).\n",
    "\n",
    "    in (True if value is found in the sequence)\n",
    "\n",
    "    not in (True if value is not found in the sequence)\n",
    "    \n",
    "7.Identity Operators: Used to compare the memory locations of two objects.\n",
    "\n",
    "    is (True if the operands are identical)\n",
    "    \n",
    "    is not (True if the operands are not identical)\n",
    "\n",
    "\n"
   ]
  },
  {
   "cell_type": "markdown",
   "metadata": {},
   "source": [
    "2. You bought 10 chocolates from a store. Each chocolate costs 5.68 rupees and you\n",
    "gave the shopkeeper 60 rupees. Find out using python, how many rupees is the\n",
    "shopkeeper going to give you back?"
   ]
  },
  {
   "cell_type": "code",
   "execution_count": 10,
   "metadata": {},
   "outputs": [
    {
     "name": "stdout",
     "output_type": "stream",
     "text": [
      "3.200000000000003\n"
     ]
    }
   ],
   "source": [
    "def shopping (bought):\n",
    "    cost_Of_Each_chocolates = 5.68\n",
    "    cost_Of_All_Chocolates = bought * cost_Of_Each_chocolates\n",
    "    returning_Money = 60-cost_Of_All_Chocolates\n",
    "    print(returning_Money)\n",
    "shopping(int(input(\"Enter how many chocolates would you like to buy\")))\n"
   ]
  },
  {
   "cell_type": "markdown",
   "metadata": {},
   "source": [
    "3. You have a floor that is 52 meters long and 88.7 meters wide. Find out the total area\n",
    "using python and print it.\n"
   ]
  },
  {
   "cell_type": "code",
   "execution_count": 1,
   "metadata": {},
   "outputs": [
    {
     "name": "stdout",
     "output_type": "stream",
     "text": [
      "4612.400000000001\n"
     ]
    }
   ],
   "source": [
    "floor_Length = 52    \n",
    "    \n",
    "floor_Width = 88.7\n",
    "    \n",
    "total_Area = floor_Length * floor_Width\n",
    "    \n",
    "print(total_Area)"
   ]
  },
  {
   "cell_type": "markdown",
   "metadata": {},
   "source": [
    "4. Create a variable called break and assign it a value 16. See what happens and find\n",
    "out the reason behind the behavior that you see.\n"
   ]
  },
  {
   "cell_type": "code",
   "execution_count": 6,
   "metadata": {},
   "outputs": [
    {
     "ename": "SyntaxError",
     "evalue": "invalid syntax (3902937571.py, line 1)",
     "output_type": "error",
     "traceback": [
      "\u001b[1;36m  Cell \u001b[1;32mIn[6], line 1\u001b[1;36m\u001b[0m\n\u001b[1;33m    break = 16  # break is keyword so we cant pass any value to keyword\u001b[0m\n\u001b[1;37m          ^\u001b[0m\n\u001b[1;31mSyntaxError\u001b[0m\u001b[1;31m:\u001b[0m invalid syntax\n"
     ]
    }
   ],
   "source": [
    "break = 16  # break is keyword so we cant pass any value to keyword\n",
    "break_Width = 16 # now we can assign"
   ]
  },
  {
   "cell_type": "markdown",
   "metadata": {},
   "source": [
    "5. Create a program to calculate the area of a circle with diameter 45."
   ]
  },
  {
   "cell_type": "code",
   "execution_count": 6,
   "metadata": {},
   "outputs": [
    {
     "name": "stdout",
     "output_type": "stream",
     "text": [
      "1591.0714285714284\n"
     ]
    }
   ],
   "source": [
    "\n",
    "circle_Diameter = 45/2\n",
    "area_Of_Circle = (22/7) * circle_Diameter**2\n",
    "\n",
    "print(area_Of_Circle)"
   ]
  },
  {
   "cell_type": "code",
   "execution_count": 4,
   "metadata": {},
   "outputs": [
    {
     "name": "stdout",
     "output_type": "stream",
     "text": [
      "1590.4312808798327\n"
     ]
    }
   ],
   "source": [
    "import math\n",
    "\n",
    "circle_Diameter = 45\n",
    "radius = circle_Diameter / 2\n",
    "area_Of_Circle = math.pi * radius ** 2\n",
    "\n",
    "print(area_Of_Circle)"
   ]
  },
  {
   "cell_type": "markdown",
   "metadata": {},
   "source": [
    "6. If a = 45 and b = 30. Then swap the two numbers using operators."
   ]
  },
  {
   "cell_type": "code",
   "execution_count": 2,
   "metadata": {},
   "outputs": [
    {
     "name": "stdout",
     "output_type": "stream",
     "text": [
      "a=30,b=45\n"
     ]
    }
   ],
   "source": [
    "a = 45\n",
    "b = 30\n",
    "a,b = b,a\n",
    "print(f\"a={a},b={b}\")\n",
    "\n"
   ]
  },
  {
   "cell_type": "markdown",
   "metadata": {},
   "source": [
    "7. If you are earning 5 lakhs per year and you got a hike and now your salary is 10\n",
    "lakhs per year. Create a program to calculate the percentage increase in your\n",
    "salary."
   ]
  },
  {
   "cell_type": "code",
   "execution_count": 3,
   "metadata": {},
   "outputs": [
    {
     "name": "stdout",
     "output_type": "stream",
     "text": [
      "100.0\n"
     ]
    }
   ],
   "source": [
    "first_Year_Salary = 5\n",
    "\n",
    "after_Hike_Year_Salary = 10\n",
    "\n",
    "\n",
    "salary_Increase = (after_Hike_Year_Salary - first_Year_Salary) / first_Year_Salary * 100\n",
    "\n",
    "print(salary_Increase)\n",
    "\n"
   ]
  }
 ],
 "metadata": {
  "kernelspec": {
   "display_name": "Python 3",
   "language": "python",
   "name": "python3"
  },
  "language_info": {
   "codemirror_mode": {
    "name": "ipython",
    "version": 3
   },
   "file_extension": ".py",
   "mimetype": "text/x-python",
   "name": "python",
   "nbconvert_exporter": "python",
   "pygments_lexer": "ipython3",
   "version": "3.12.3"
  }
 },
 "nbformat": 4,
 "nbformat_minor": 2
}
